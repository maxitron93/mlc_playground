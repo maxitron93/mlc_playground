{
 "cells": [
  {
   "cell_type": "markdown",
   "metadata": {},
   "source": [
    "source: https://medium.com/towards-artificial-intelligence/keras-for-multi-label-text-classification-86d194311d0e"
   ]
  },
  {
   "cell_type": "code",
   "execution_count": 1,
   "metadata": {},
   "outputs": [],
   "source": [
    "# Import the libraries\n",
    "import tensorflow as tf\n",
    "import pandas as pd\n",
    "import numpy as np\n",
    "from nltk.corpus import stopwords\n",
    "import re\n",
    "from bs4 import BeautifulSoup\n",
    "\n",
    "from sklearn.model_selection import train_test_split \n",
    "from sklearn.feature_extraction.text import CountVectorizer\n",
    "from tensorflow.keras.preprocessing.text import Tokenizer\n",
    "from tensorflow.keras.preprocessing.sequence import pad_sequences\n",
    "\n",
    "from tensorflow.keras.layers import Input, Dense, LSTM\n",
    "from tensorflow.keras.models import Model\n",
    "from tensorflow.keras.optimizers import Adam\n",
    "import matplotlib.pyplot as plt"
   ]
  },
  {
   "cell_type": "code",
   "execution_count": 2,
   "metadata": {},
   "outputs": [
    {
     "data": {
      "text/html": [
       "<div>\n",
       "<style scoped>\n",
       "    .dataframe tbody tr th:only-of-type {\n",
       "        vertical-align: middle;\n",
       "    }\n",
       "\n",
       "    .dataframe tbody tr th {\n",
       "        vertical-align: top;\n",
       "    }\n",
       "\n",
       "    .dataframe thead th {\n",
       "        text-align: right;\n",
       "    }\n",
       "</style>\n",
       "<table border=\"1\" class=\"dataframe\">\n",
       "  <thead>\n",
       "    <tr style=\"text-align: right;\">\n",
       "      <th></th>\n",
       "      <th>imdb_id</th>\n",
       "      <th>title</th>\n",
       "      <th>plot_synopsis</th>\n",
       "      <th>tags</th>\n",
       "      <th>split</th>\n",
       "      <th>synopsis_source</th>\n",
       "    </tr>\n",
       "  </thead>\n",
       "  <tbody>\n",
       "    <tr>\n",
       "      <td>0</td>\n",
       "      <td>tt0057603</td>\n",
       "      <td>I tre volti della paura</td>\n",
       "      <td>Note: this synopsis is for the orginal Italian...</td>\n",
       "      <td>cult, horror, gothic, murder, atmospheric</td>\n",
       "      <td>train</td>\n",
       "      <td>imdb</td>\n",
       "    </tr>\n",
       "    <tr>\n",
       "      <td>1</td>\n",
       "      <td>tt1733125</td>\n",
       "      <td>Dungeons &amp; Dragons: The Book of Vile Darkness</td>\n",
       "      <td>Two thousand years ago, Nhagruul the Foul, a s...</td>\n",
       "      <td>violence</td>\n",
       "      <td>train</td>\n",
       "      <td>imdb</td>\n",
       "    </tr>\n",
       "    <tr>\n",
       "      <td>2</td>\n",
       "      <td>tt0033045</td>\n",
       "      <td>The Shop Around the Corner</td>\n",
       "      <td>Matuschek's, a gift store in Budapest, is the ...</td>\n",
       "      <td>romantic</td>\n",
       "      <td>test</td>\n",
       "      <td>imdb</td>\n",
       "    </tr>\n",
       "    <tr>\n",
       "      <td>3</td>\n",
       "      <td>tt0113862</td>\n",
       "      <td>Mr. Holland's Opus</td>\n",
       "      <td>Glenn Holland, not a morning person by anyone'...</td>\n",
       "      <td>inspiring, romantic, stupid, feel-good</td>\n",
       "      <td>train</td>\n",
       "      <td>imdb</td>\n",
       "    </tr>\n",
       "    <tr>\n",
       "      <td>4</td>\n",
       "      <td>tt0086250</td>\n",
       "      <td>Scarface</td>\n",
       "      <td>In May 1980, a Cuban man named Tony Montana (A...</td>\n",
       "      <td>cruelty, murder, dramatic, cult, violence, atm...</td>\n",
       "      <td>val</td>\n",
       "      <td>imdb</td>\n",
       "    </tr>\n",
       "  </tbody>\n",
       "</table>\n",
       "</div>"
      ],
      "text/plain": [
       "     imdb_id                                          title  \\\n",
       "0  tt0057603                        I tre volti della paura   \n",
       "1  tt1733125  Dungeons & Dragons: The Book of Vile Darkness   \n",
       "2  tt0033045                     The Shop Around the Corner   \n",
       "3  tt0113862                             Mr. Holland's Opus   \n",
       "4  tt0086250                                       Scarface   \n",
       "\n",
       "                                       plot_synopsis  \\\n",
       "0  Note: this synopsis is for the orginal Italian...   \n",
       "1  Two thousand years ago, Nhagruul the Foul, a s...   \n",
       "2  Matuschek's, a gift store in Budapest, is the ...   \n",
       "3  Glenn Holland, not a morning person by anyone'...   \n",
       "4  In May 1980, a Cuban man named Tony Montana (A...   \n",
       "\n",
       "                                                tags  split synopsis_source  \n",
       "0          cult, horror, gothic, murder, atmospheric  train            imdb  \n",
       "1                                           violence  train            imdb  \n",
       "2                                           romantic   test            imdb  \n",
       "3             inspiring, romantic, stupid, feel-good  train            imdb  \n",
       "4  cruelty, murder, dramatic, cult, violence, atm...    val            imdb  "
      ]
     },
     "execution_count": 2,
     "metadata": {},
     "output_type": "execute_result"
    }
   ],
   "source": [
    "# Load in the data\n",
    "data = pd.read_csv('../Datasets/kaggle_movies/mpst_full_data.csv', delimiter=',')\n",
    "\n",
    "# Have a look at the first 5 rows\n",
    "data.head(n=5)"
   ]
  },
  {
   "cell_type": "code",
   "execution_count": 3,
   "metadata": {},
   "outputs": [
    {
     "data": {
      "text/plain": [
       "(14828, 6)"
      ]
     },
     "execution_count": 3,
     "metadata": {},
     "output_type": "execute_result"
    }
   ],
   "source": [
    "# Have a look at the data shape\n",
    "data.shape"
   ]
  },
  {
   "cell_type": "markdown",
   "metadata": {},
   "source": [
    "### Preprocess the input data"
   ]
  },
  {
   "cell_type": "code",
   "execution_count": 4,
   "metadata": {},
   "outputs": [],
   "source": [
    "# Get the stopwords\n",
    "stop = stopwords.words('english')"
   ]
  },
  {
   "cell_type": "code",
   "execution_count": 5,
   "metadata": {},
   "outputs": [],
   "source": [
    "# Create function to remove HTML tags and special characters\n",
    "def decontracted(phrase):\n",
    "    # specific\n",
    "    phrase = re.sub(r\"won't\", \"will not\", phrase)\n",
    "    phrase = re.sub(r\"can\\'t\", \"can not\", phrase)\n",
    "\n",
    "    # general\n",
    "    phrase = re.sub(r\"n\\'t\", \" not\", phrase)\n",
    "    phrase = re.sub(r\"\\'re\", \" are\", phrase)\n",
    "    phrase = re.sub(r\"\\'s\", \" is\", phrase)\n",
    "    phrase = re.sub(r\"\\'d\", \" would\", phrase)\n",
    "    phrase = re.sub(r\"\\'ll\", \" will\", phrase)\n",
    "    phrase = re.sub(r\"\\'t\", \" not\", phrase)\n",
    "    phrase = re.sub(r\"\\'ve\", \" have\", phrase)\n",
    "    phrase = re.sub(r\"\\'m\", \" am\", phrase)\n",
    "    return phrase"
   ]
  },
  {
   "cell_type": "code",
   "execution_count": 6,
   "metadata": {},
   "outputs": [],
   "source": [
    "# Create function to process text\n",
    "def process_text(text):\n",
    "    text = re.sub(r\"http\\S+\", \"\", text)\n",
    "    text = BeautifulSoup(text, 'lxml').get_text()\n",
    "    text = decontracted(text)\n",
    "    text = re.sub(\"\\S*\\d\\S*\", \"\", text).strip()\n",
    "    text = re.sub('[^A-Za-z]+', ' ', text)\n",
    "    text = ' '.join(e.lower() for e in text.split() if e.lower() not in stop)\n",
    "    return text"
   ]
  },
  {
   "cell_type": "code",
   "execution_count": 7,
   "metadata": {},
   "outputs": [],
   "source": [
    "# Clean the data\n",
    "data['plot_synopsis_processed'] = data['plot_synopsis'].apply(process_text)"
   ]
  },
  {
   "cell_type": "code",
   "execution_count": 8,
   "metadata": {
    "scrolled": false
   },
   "outputs": [
    {
     "data": {
      "text/plain": [
       "'Two thousand years ago, Nhagruul the Foul, a sorcerer who reveled in corrupting the innocent and the spread of despair, neared the end of his mortal days and was dismayed. Consumed by hatred for the living, Nhagruul sold his soul to the demon Lords of the abyss so that his malign spirit would survive. In an excruciating ritual, Nhagrulls skin was flayed into pages, his bones hammered into a cover, and his diseased blood became the ink to pen a book most vile. Creatures vile and depraved rose fro'"
      ]
     },
     "execution_count": 8,
     "metadata": {},
     "output_type": "execute_result"
    }
   ],
   "source": [
    "# Have a look at the second unprocessed synopsis (first 500 characters)\n",
    "data['plot_synopsis'][1][:500]"
   ]
  },
  {
   "cell_type": "code",
   "execution_count": 9,
   "metadata": {},
   "outputs": [
    {
     "data": {
      "text/plain": [
       "'two thousand years ago nhagruul foul sorcerer reveled corrupting innocent spread despair neared end mortal days dismayed consumed hatred living nhagruul sold soul demon lords abyss malign spirit would'"
      ]
     },
     "execution_count": 9,
     "metadata": {},
     "output_type": "execute_result"
    }
   ],
   "source": [
    "# Have a look at the second processed synopsis (first 500 characters)\n",
    "data['plot_synopsis_processed'][1][:200]"
   ]
  },
  {
   "cell_type": "code",
   "execution_count": 10,
   "metadata": {},
   "outputs": [
    {
     "data": {
      "text/plain": [
       "count    14828.000000\n",
       "mean       489.585244\n",
       "std        468.837708\n",
       "min         44.000000\n",
       "25%        237.000000\n",
       "50%        365.000000\n",
       "75%        550.000000\n",
       "max       5825.000000\n",
       "Name: word_count, dtype: float64"
      ]
     },
     "execution_count": 10,
     "metadata": {},
     "output_type": "execute_result"
    }
   ],
   "source": [
    "# Get a better feel of the word count\n",
    "data['word_count'] = data['plot_synopsis_processed'].apply(lambda x: x.count(' '))\n",
    "data['word_count'].describe()"
   ]
  },
  {
   "cell_type": "code",
   "execution_count": 11,
   "metadata": {},
   "outputs": [],
   "source": [
    "# Define the vocab size (number of features)\n",
    "VOCAB_SIZE = 10000"
   ]
  },
  {
   "cell_type": "code",
   "execution_count": 12,
   "metadata": {},
   "outputs": [],
   "source": [
    "# Tokenize the text\n",
    "tokenizer = Tokenizer(num_words=VOCAB_SIZE)\n",
    "tokenizer.fit_on_texts(np.array(data['plot_synopsis_processed']))"
   ]
  },
  {
   "cell_type": "code",
   "execution_count": 13,
   "metadata": {},
   "outputs": [],
   "source": [
    "# Create the sequences\n",
    "X = tokenizer.texts_to_sequences(np.array(data['plot_synopsis_processed']))"
   ]
  },
  {
   "cell_type": "code",
   "execution_count": 14,
   "metadata": {
    "scrolled": true
   },
   "outputs": [
    {
     "name": "stdout",
     "output_type": "stream",
     "text": [
      "[673, 4619, 2462, 1094, 1684, 192, 4464, 934, 65, 1330, 7290, 3667, 419, 65, 2008, 809, 6291, 2700, 244, 151, 89, 72, 814, 138, 482, 302, 31, 534, 622, 167, 94, 5289, 80, 3750, 154, 770, 5012, 1194, 1362, 285, 2322, 4408, 5105, 5, 817, 178, 9104, 2656, 4989, 1075, 241, 4, 270, 3280, 7, 1684, 1, 39, 241, 182, 75, 28, 1864, 15, 154, 94, 2527, 1406, 94, 2388, 555, 1016, 241, 5289, 9173, 154, 437, 66, 138, 80, 343, 2175, 73, 1659, 2626, 53, 383, 259, 15, 28, 2794, 241, 31, 259, 673, 2812, 1, 237, 622, 167, 94, 1646, 79, 285, 562, 42, 151, 39, 140, 2675, 40, 418, 3, 34, 2601, 1385, 1021, 1315, 6651, 138, 7, 154, 226, 110, 241, 4873, 46, 1, 1072, 1363, 5354, 9422, 5223, 5012, 146, 45, 711, 53, 812, 84, 40, 259, 35, 335, 28, 1354, 4262, 521, 7337, 241, 4102, 4663, 521, 1008, 154, 943, 5647, 724, 521, 258, 1859, 4, 3628, 282, 2456, 2701, 4465, 4431, 59, 9771, 169, 678, 918, 1182, 17, 9287, 1068, 521, 400, 9038, 1601, 21, 15, 28, 4431, 404, 188, 3880, 3192, 573, 1793, 359, 123, 1258, 1, 2073, 8480, 868, 1047, 1977, 1, 763, 4431, 1073, 2016, 8709, 140, 521, 3658, 13, 219, 543, 296, 8709, 257, 23, 59, 1304, 1901, 934, 301, 37, 49, 59, 63, 1966, 8709, 777, 121, 210, 2293, 1901, 6509, 1136, 13, 92, 944, 3237, 402, 334, 5564, 1860, 6163, 4431, 1575, 4170, 140, 563, 5255, 223, 288, 380, 88, 37, 412, 8709, 1684, 1068, 4431, 763, 1860, 6163, 19, 714, 1376, 4352, 13, 1714, 223, 2221, 1775, 1304, 44, 95, 220, 7147, 61, 9039, 90, 5973, 2992, 4464, 72, 3192, 9772, 8710, 1587, 1993, 4, 684, 2766, 714, 2041, 47, 5255, 37, 50, 84, 2369, 640, 1671, 15, 28, 1966, 442, 223, 873, 3192, 8709, 6914, 1114, 8909, 1966, 49, 632, 1978, 436, 182, 3668, 212, 199, 211, 3035, 28, 212, 2630, 1340, 1005, 2061, 3192, 30, 85, 63, 1571, 3434, 8709, 142, 141, 2830, 206, 74, 61, 5, 99, 650, 173, 4431, 776, 3192, 10, 131, 790, 2908, 745, 5331, 1759, 258, 4431, 169, 483, 34, 1045, 1720, 37, 2342, 369, 2377, 220, 37, 1907, 37, 5671, 482, 4280, 139, 745, 2054, 4431, 2794, 6977, 3027, 767, 3079, 46, 3973, 800, 4431, 728, 1571, 37, 422, 160, 12, 1270, 1075, 559, 5691, 59, 9771, 17, 986, 259, 1338, 657, 5173, 126, 702, 4796, 4431, 4642, 2857, 1204, 613, 1200, 1175, 635, 5206, 8809, 200, 239, 8, 1370, 1068, 1540, 9631, 5032, 931, 71, 359, 3991, 2286, 603, 2334, 7778, 1175, 5206, 1105, 850, 6652, 724, 203, 252, 337, 19, 909, 4321, 1837, 71, 3224, 2074, 189, 72, 12, 188, 1902, 118, 1879, 646, 12, 1175, 5206, 622, 572, 909, 72, 318, 1012, 138, 10, 2096, 203, 318, 41, 61, 1068, 986, 259, 418, 392, 2322, 53, 1005, 4013, 1266, 4873, 9631, 286, 1479, 27, 171, 5648, 240, 159, 1175, 5206, 71, 94, 26, 4453, 125, 529, 246, 2172, 3050, 316, 1175, 5206, 330, 9422, 66, 125, 4466, 71, 160, 18, 1300, 969, 2206, 188, 97, 2334, 3118, 2169, 1282, 331, 603, 2334, 255, 84, 7873, 143, 6063, 618, 694, 603, 56, 1175, 5206, 2299, 1072, 909, 463, 4464, 84, 271, 1587, 1488, 651, 2172, 65, 7290, 809, 2, 5512, 5207, 563, 12, 28, 2993, 1396, 809, 1925, 299, 3, 339, 697, 741, 1325, 651, 511, 327, 787, 954, 64, 125, 1488, 828, 5414]\n"
     ]
    }
   ],
   "source": [
    "# Have a look at the first sequence\n",
    "print(X[0])"
   ]
  },
  {
   "cell_type": "code",
   "execution_count": 15,
   "metadata": {},
   "outputs": [],
   "source": [
    "# Define the maximum sequence length\n",
    "MAX_LENGTH = 500"
   ]
  },
  {
   "cell_type": "code",
   "execution_count": 16,
   "metadata": {},
   "outputs": [],
   "source": [
    "# Pad the sequences\n",
    "X = pad_sequences(X, maxlen=MAX_LENGTH, padding='pre')"
   ]
  },
  {
   "cell_type": "code",
   "execution_count": 17,
   "metadata": {
    "scrolled": true
   },
   "outputs": [
    {
     "name": "stdout",
     "output_type": "stream",
     "text": [
      "[ 138   80  343 2175   73 1659 2626   53  383  259   15   28 2794  241\n",
      "   31  259  673 2812    1  237  622  167   94 1646   79  285  562   42\n",
      "  151   39  140 2675   40  418    3   34 2601 1385 1021 1315 6651  138\n",
      "    7  154  226  110  241 4873   46    1 1072 1363 5354 9422 5223 5012\n",
      "  146   45  711   53  812   84   40  259   35  335   28 1354 4262  521\n",
      " 7337  241 4102 4663  521 1008  154  943 5647  724  521  258 1859    4\n",
      " 3628  282 2456 2701 4465 4431   59 9771  169  678  918 1182   17 9287\n",
      " 1068  521  400 9038 1601   21   15   28 4431  404  188 3880 3192  573\n",
      " 1793  359  123 1258    1 2073 8480  868 1047 1977    1  763 4431 1073\n",
      " 2016 8709  140  521 3658   13  219  543  296 8709  257   23   59 1304\n",
      " 1901  934  301   37   49   59   63 1966 8709  777  121  210 2293 1901\n",
      " 6509 1136   13   92  944 3237  402  334 5564 1860 6163 4431 1575 4170\n",
      "  140  563 5255  223  288  380   88   37  412 8709 1684 1068 4431  763\n",
      " 1860 6163   19  714 1376 4352   13 1714  223 2221 1775 1304   44   95\n",
      "  220 7147   61 9039   90 5973 2992 4464   72 3192 9772 8710 1587 1993\n",
      "    4  684 2766  714 2041   47 5255   37   50   84 2369  640 1671   15\n",
      "   28 1966  442  223  873 3192 8709 6914 1114 8909 1966   49  632 1978\n",
      "  436  182 3668  212  199  211 3035   28  212 2630 1340 1005 2061 3192\n",
      "   30   85   63 1571 3434 8709  142  141 2830  206   74   61    5   99\n",
      "  650  173 4431  776 3192   10  131  790 2908  745 5331 1759  258 4431\n",
      "  169  483   34 1045 1720   37 2342  369 2377  220   37 1907   37 5671\n",
      "  482 4280  139  745 2054 4431 2794 6977 3027  767 3079   46 3973  800\n",
      " 4431  728 1571   37  422  160   12 1270 1075  559 5691   59 9771   17\n",
      "  986  259 1338  657 5173  126  702 4796 4431 4642 2857 1204  613 1200\n",
      " 1175  635 5206 8809  200  239    8 1370 1068 1540 9631 5032  931   71\n",
      "  359 3991 2286  603 2334 7778 1175 5206 1105  850 6652  724  203  252\n",
      "  337   19  909 4321 1837   71 3224 2074  189   72   12  188 1902  118\n",
      " 1879  646   12 1175 5206  622  572  909   72  318 1012  138   10 2096\n",
      "  203  318   41   61 1068  986  259  418  392 2322   53 1005 4013 1266\n",
      " 4873 9631  286 1479   27  171 5648  240  159 1175 5206   71   94   26\n",
      " 4453  125  529  246 2172 3050  316 1175 5206  330 9422   66  125 4466\n",
      "   71  160   18 1300  969 2206  188   97 2334 3118 2169 1282  331  603\n",
      " 2334  255   84 7873  143 6063  618  694  603   56 1175 5206 2299 1072\n",
      "  909  463 4464   84  271 1587 1488  651 2172   65 7290  809    2 5512\n",
      " 5207  563   12   28 2993 1396  809 1925  299    3  339  697  741 1325\n",
      "  651  511  327  787  954   64  125 1488  828 5414]\n"
     ]
    }
   ],
   "source": [
    "# Have a look at the first sequence\n",
    "print(X[0])"
   ]
  },
  {
   "cell_type": "code",
   "execution_count": 18,
   "metadata": {},
   "outputs": [
    {
     "data": {
      "text/plain": [
       "array([[ 138,   80,  343, ..., 1488,  828, 5414],\n",
       "       [   0,    0,    0, ...,  712,  460,  293],\n",
       "       [   0,    0,    0, ...,  180,   91,  716],\n",
       "       ...,\n",
       "       [   0,    0,    0, ...,  135,  538,  816],\n",
       "       [   0,    0,    0, ...,  845,  396,   26],\n",
       "       [   0,    0,    0, ...,    1, 1130,  360]])"
      ]
     },
     "execution_count": 18,
     "metadata": {},
     "output_type": "execute_result"
    }
   ],
   "source": [
    "# Have a look at the input data\n",
    "X"
   ]
  },
  {
   "cell_type": "code",
   "execution_count": 19,
   "metadata": {},
   "outputs": [
    {
     "data": {
      "text/plain": [
       "(14828, 500)"
      ]
     },
     "execution_count": 19,
     "metadata": {},
     "output_type": "execute_result"
    }
   ],
   "source": [
    "# Have a look at the input data shape\n",
    "X.shape"
   ]
  },
  {
   "cell_type": "markdown",
   "metadata": {},
   "source": [
    "### Preprocess the tags"
   ]
  },
  {
   "cell_type": "code",
   "execution_count": 20,
   "metadata": {},
   "outputs": [
    {
     "data": {
      "text/plain": [
       "0            cult, horror, gothic, murder, atmospheric\n",
       "1                                             violence\n",
       "2                                             romantic\n",
       "3               inspiring, romantic, stupid, feel-good\n",
       "4    cruelty, murder, dramatic, cult, violence, atm...\n",
       "Name: tags, dtype: object"
      ]
     },
     "execution_count": 20,
     "metadata": {},
     "output_type": "execute_result"
    }
   ],
   "source": [
    "# Have a look at the labels\n",
    "data['tags'].head(n=5)"
   ]
  },
  {
   "cell_type": "code",
   "execution_count": 21,
   "metadata": {},
   "outputs": [],
   "source": [
    "# Get rid of spaces\n",
    "data['tags'] = data['tags'].apply(lambda tags: ','.join([tag.strip() for tag in tags.split(',')]))"
   ]
  },
  {
   "cell_type": "code",
   "execution_count": 22,
   "metadata": {},
   "outputs": [
    {
     "data": {
      "text/plain": [
       "0                cult,horror,gothic,murder,atmospheric\n",
       "1                                             violence\n",
       "2                                             romantic\n",
       "3                  inspiring,romantic,stupid,feel-good\n",
       "4    cruelty,murder,dramatic,cult,violence,atmosphe...\n",
       "Name: tags, dtype: object"
      ]
     },
     "execution_count": 22,
     "metadata": {},
     "output_type": "execute_result"
    }
   ],
   "source": [
    "# Have a look at the labels\n",
    "data['tags'].head(n=5)"
   ]
  },
  {
   "cell_type": "code",
   "execution_count": 23,
   "metadata": {
    "scrolled": true
   },
   "outputs": [],
   "source": [
    "# Get set of unique tags\n",
    "unique_tags = set()\n",
    "data['tags'].apply(lambda tags: [unique_tags.add(tag) for tag in tags.split(',')]);"
   ]
  },
  {
   "cell_type": "code",
   "execution_count": 24,
   "metadata": {},
   "outputs": [
    {
     "name": "stdout",
     "output_type": "stream",
     "text": [
      "{'feel-good', 'philosophical', 'whimsical', 'plot twist', 'fantasy', 'sci-fi', 'haunting', 'alternate history', 'comedy', 'cruelty', 'flashback', 'psychedelic', 'gothic', 'realism', 'entertaining', 'dark', 'prank', 'autobiographical', 'brainwashing', 'absurd', 'avant garde', 'stupid', 'neo noir', 'anti war', 'suspenseful', 'magical realism', 'action', 'queer', 'western', 'dramatic', 'depressing', 'melodrama', 'romantic', 'horror', 'satire', 'cult', 'allegory', 'cute', 'bleak', 'tragedy', 'mystery', 'paranormal', 'suicidal', 'pornographic', 'thought-provoking', 'insanity', 'storytelling', 'claustrophobic', 'violence', 'revenge', 'home movie', 'comic', 'boring', 'inspiring', 'grindhouse film', 'good versus evil', 'historical', 'alternate reality', 'clever', 'christian film', 'psychological', 'murder', 'atmospheric', 'humor', 'intrigue', 'blaxploitation', 'sadist', 'sentimental', 'non fiction', 'historical fiction', 'adult comedy'}\n"
     ]
    }
   ],
   "source": [
    "# Have a look at the tags\n",
    "print(unique_tags)"
   ]
  },
  {
   "cell_type": "code",
   "execution_count": 25,
   "metadata": {},
   "outputs": [
    {
     "data": {
      "text/plain": [
       "71"
      ]
     },
     "execution_count": 25,
     "metadata": {},
     "output_type": "execute_result"
    }
   ],
   "source": [
    "# Count the number of tags\n",
    "len(unique_tags)"
   ]
  },
  {
   "cell_type": "code",
   "execution_count": 26,
   "metadata": {},
   "outputs": [],
   "source": [
    "# Create the vectorizer\n",
    "vectorizer = CountVectorizer(tokenizer = lambda x: x.split(\",\"), binary='true')"
   ]
  },
  {
   "cell_type": "code",
   "execution_count": 27,
   "metadata": {},
   "outputs": [],
   "source": [
    "# Vectorize the tags\n",
    "y = vectorizer.fit_transform(data['tags']).toarray()"
   ]
  },
  {
   "cell_type": "code",
   "execution_count": 28,
   "metadata": {},
   "outputs": [
    {
     "data": {
      "text/plain": [
       "array([[0, 0, 0, ..., 0, 0, 0],\n",
       "       [0, 0, 0, ..., 1, 0, 0],\n",
       "       [0, 0, 0, ..., 0, 0, 0],\n",
       "       ...,\n",
       "       [0, 0, 0, ..., 0, 0, 0],\n",
       "       [0, 0, 0, ..., 0, 0, 0],\n",
       "       [0, 0, 0, ..., 0, 0, 0]], dtype=int64)"
      ]
     },
     "execution_count": 28,
     "metadata": {},
     "output_type": "execute_result"
    }
   ],
   "source": [
    "# Have a look at the tags\n",
    "y"
   ]
  },
  {
   "cell_type": "code",
   "execution_count": 29,
   "metadata": {},
   "outputs": [
    {
     "data": {
      "text/plain": [
       "(14828, 71)"
      ]
     },
     "execution_count": 29,
     "metadata": {},
     "output_type": "execute_result"
    }
   ],
   "source": [
    "# Have a look at the tags shape\n",
    "y.shape"
   ]
  },
  {
   "cell_type": "markdown",
   "metadata": {},
   "source": [
    "### Create the train-test split"
   ]
  },
  {
   "cell_type": "code",
   "execution_count": 30,
   "metadata": {},
   "outputs": [],
   "source": [
    "# Create the train-test-split\n",
    "X_train, X_test, y_train, y_test = train_test_split(X, y, test_size=0.25, random_state=1000)"
   ]
  },
  {
   "cell_type": "markdown",
   "metadata": {},
   "source": [
    "### Try a DNN"
   ]
  },
  {
   "cell_type": "code",
   "execution_count": 31,
   "metadata": {},
   "outputs": [],
   "source": [
    "# Define the layers of the model\n",
    "i = Input(shape=(X.shape[1],))\n",
    "x = Dense(200, activation='relu')(i)\n",
    "x = Dense(200, activation='relu')(x)\n",
    "x = Dense(200, activation='relu')(x)\n",
    "x = Dense(200, activation='relu')(x)\n",
    "x = tf.keras.layers.Dense(y.shape[1], activation='sigmoid')(x)"
   ]
  },
  {
   "cell_type": "code",
   "execution_count": 32,
   "metadata": {},
   "outputs": [],
   "source": [
    "# Build the model\n",
    "model = Model(i, x)"
   ]
  },
  {
   "cell_type": "code",
   "execution_count": 33,
   "metadata": {},
   "outputs": [
    {
     "name": "stdout",
     "output_type": "stream",
     "text": [
      "Model: \"model\"\n",
      "_________________________________________________________________\n",
      "Layer (type)                 Output Shape              Param #   \n",
      "=================================================================\n",
      "input_1 (InputLayer)         [(None, 500)]             0         \n",
      "_________________________________________________________________\n",
      "dense (Dense)                (None, 200)               100200    \n",
      "_________________________________________________________________\n",
      "dense_1 (Dense)              (None, 200)               40200     \n",
      "_________________________________________________________________\n",
      "dense_2 (Dense)              (None, 200)               40200     \n",
      "_________________________________________________________________\n",
      "dense_3 (Dense)              (None, 200)               40200     \n",
      "_________________________________________________________________\n",
      "dense_4 (Dense)              (None, 71)                14271     \n",
      "=================================================================\n",
      "Total params: 235,071\n",
      "Trainable params: 235,071\n",
      "Non-trainable params: 0\n",
      "_________________________________________________________________\n"
     ]
    }
   ],
   "source": [
    "# Have a look at the model\n",
    "model.summary()"
   ]
  },
  {
   "cell_type": "markdown",
   "metadata": {},
   "source": [
    "Metric will be F1 score\n",
    "\n",
    "F1 Score = 2 * (precision * recall) / (precision + recall)"
   ]
  },
  {
   "cell_type": "code",
   "execution_count": 34,
   "metadata": {},
   "outputs": [],
   "source": [
    "# # Define the metric\n",
    "# def f1micro(y_true, y_pred):\n",
    "#     return tf.py_func(f1_score(y_true, y_pred,average='micro'),tf.double)"
   ]
  },
  {
   "cell_type": "code",
   "execution_count": 35,
   "metadata": {},
   "outputs": [],
   "source": [
    "# Define how the model should be trained\n",
    "# model.compile(loss='binary_crossentropy', optimizer=Adam(lr=0.00005), metrics=['accuracy', f1micro])\n",
    "model.compile(loss='binary_crossentropy', optimizer=Adam(lr=0.00005), metrics=['accuracy'])"
   ]
  },
  {
   "cell_type": "code",
   "execution_count": 36,
   "metadata": {
    "scrolled": true
   },
   "outputs": [
    {
     "name": "stdout",
     "output_type": "stream",
     "text": [
      "Train on 11121 samples, validate on 3707 samples\n",
      "Epoch 1/30\n",
      "11121/11121 [==============================] - 2s 169us/sample - loss: 50.9708 - accuracy: 0.8295 - val_loss: 13.8746 - val_accuracy: 0.9232\n",
      "Epoch 2/30\n",
      "11121/11121 [==============================] - 1s 96us/sample - loss: 10.9626 - accuracy: 0.9242 - val_loss: 8.5503 - val_accuracy: 0.9265\n",
      "Epoch 3/30\n",
      "11121/11121 [==============================] - 1s 99us/sample - loss: 6.9960 - accuracy: 0.9267 - val_loss: 5.7674 - val_accuracy: 0.9273\n",
      "Epoch 4/30\n",
      "11121/11121 [==============================] - 1s 96us/sample - loss: 4.7834 - accuracy: 0.9272 - val_loss: 4.0538 - val_accuracy: 0.9274\n",
      "Epoch 5/30\n",
      "11121/11121 [==============================] - 1s 94us/sample - loss: 3.3969 - accuracy: 0.9273 - val_loss: 2.9382 - val_accuracy: 0.9269\n",
      "Epoch 6/30\n",
      "11121/11121 [==============================] - 1s 92us/sample - loss: 2.4537 - accuracy: 0.9274 - val_loss: 2.1350 - val_accuracy: 0.9273\n",
      "Epoch 7/30\n",
      "11121/11121 [==============================] - 1s 92us/sample - loss: 1.7908 - accuracy: 0.9275 - val_loss: 1.5747 - val_accuracy: 0.9277\n",
      "Epoch 8/30\n",
      "11121/11121 [==============================] - 1s 92us/sample - loss: 1.3237 - accuracy: 0.9270 - val_loss: 1.1725 - val_accuracy: 0.9284\n",
      "Epoch 9/30\n",
      "11121/11121 [==============================] - 1s 90us/sample - loss: 0.9855 - accuracy: 0.9261 - val_loss: 0.8680 - val_accuracy: 0.9262\n",
      "Epoch 10/30\n",
      "11121/11121 [==============================] - 1s 91us/sample - loss: 0.7323 - accuracy: 0.9262 - val_loss: 0.6465 - val_accuracy: 0.9277\n",
      "Epoch 11/30\n",
      "11121/11121 [==============================] - 1s 91us/sample - loss: 0.5544 - accuracy: 0.9266 - val_loss: 0.4979 - val_accuracy: 0.9274\n",
      "Epoch 12/30\n",
      "11121/11121 [==============================] - 1s 94us/sample - loss: 0.4337 - accuracy: 0.9274 - val_loss: 0.3991 - val_accuracy: 0.9294\n",
      "Epoch 13/30\n",
      "11121/11121 [==============================] - 1s 92us/sample - loss: 0.3518 - accuracy: 0.9294 - val_loss: 0.3289 - val_accuracy: 0.9316\n",
      "Epoch 14/30\n",
      "11121/11121 [==============================] - 1s 94us/sample - loss: 0.2948 - accuracy: 0.9326 - val_loss: 0.2804 - val_accuracy: 0.9328\n",
      "Epoch 15/30\n",
      "11121/11121 [==============================] - 1s 94us/sample - loss: 0.2546 - accuracy: 0.9371 - val_loss: 0.2457 - val_accuracy: 0.9387\n",
      "Epoch 16/30\n",
      "11121/11121 [==============================] - 1s 91us/sample - loss: 0.2262 - accuracy: 0.9416 - val_loss: 0.2216 - val_accuracy: 0.9418\n",
      "Epoch 17/30\n",
      "11121/11121 [==============================] - 1s 90us/sample - loss: 0.2063 - accuracy: 0.9453 - val_loss: 0.2028 - val_accuracy: 0.9469\n",
      "Epoch 18/30\n",
      "11121/11121 [==============================] - 1s 93us/sample - loss: 0.1917 - accuracy: 0.9485 - val_loss: 0.1904 - val_accuracy: 0.9504\n",
      "Epoch 19/30\n",
      "11121/11121 [==============================] - 1s 90us/sample - loss: 0.1811 - accuracy: 0.9510 - val_loss: 0.1803 - val_accuracy: 0.9515\n",
      "Epoch 20/30\n",
      "11121/11121 [==============================] - 1s 93us/sample - loss: 0.1730 - accuracy: 0.9527 - val_loss: 0.1736 - val_accuracy: 0.9533\n",
      "Epoch 21/30\n",
      "11121/11121 [==============================] - 1s 92us/sample - loss: 0.1669 - accuracy: 0.9541 - val_loss: 0.1675 - val_accuracy: 0.9550\n",
      "Epoch 22/30\n",
      "11121/11121 [==============================] - 1s 91us/sample - loss: 0.1622 - accuracy: 0.9551 - val_loss: 0.1629 - val_accuracy: 0.9563\n",
      "Epoch 23/30\n",
      "11121/11121 [==============================] - 1s 89us/sample - loss: 0.1584 - accuracy: 0.9558 - val_loss: 0.1596 - val_accuracy: 0.9570\n",
      "Epoch 24/30\n",
      "11121/11121 [==============================] - 1s 92us/sample - loss: 0.1554 - accuracy: 0.9562 - val_loss: 0.1567 - val_accuracy: 0.9572\n",
      "Epoch 25/30\n",
      "11121/11121 [==============================] - 1s 89us/sample - loss: 0.1531 - accuracy: 0.9566 - val_loss: 0.1542 - val_accuracy: 0.9575\n",
      "Epoch 26/30\n",
      "11121/11121 [==============================] - 1s 91us/sample - loss: 0.1511 - accuracy: 0.9568 - val_loss: 0.1530 - val_accuracy: 0.9575\n",
      "Epoch 27/30\n",
      "11121/11121 [==============================] - 1s 91us/sample - loss: 0.1491 - accuracy: 0.9570 - val_loss: 0.1519 - val_accuracy: 0.9581\n",
      "Epoch 28/30\n",
      "11121/11121 [==============================] - 1s 91us/sample - loss: 0.1480 - accuracy: 0.9571 - val_loss: 0.1502 - val_accuracy: 0.9580\n",
      "Epoch 29/30\n",
      "11121/11121 [==============================] - 1s 91us/sample - loss: 0.1467 - accuracy: 0.9573 - val_loss: 0.1492 - val_accuracy: 0.9575\n",
      "Epoch 30/30\n",
      "11121/11121 [==============================] - 1s 92us/sample - loss: 0.1457 - accuracy: 0.9573 - val_loss: 0.1491 - val_accuracy: 0.9584\n"
     ]
    }
   ],
   "source": [
    "# Train the model\n",
    "result = model.fit(X_train, y_train,\n",
    "                   epochs=30,\n",
    "                   validation_data=(X_test, y_test));"
   ]
  },
  {
   "cell_type": "code",
   "execution_count": 37,
   "metadata": {},
   "outputs": [
    {
     "data": {
      "image/png": "[encoded data removed]",
      "text/plain": [
       "<Figure size 432x288 with 1 Axes>"
      ]
     },
     "metadata": {
      "needs_background": "light"
     },
     "output_type": "display_data"
    }
   ],
   "source": [
    "# Plot the cost function at each itteration\n",
    "# Note: model.fit() returns an object that contains the history of the training process\n",
    "plt.plot(result.history['accuracy'], label='train_accuracy');\n",
    "plt.plot(result.history['val_accuracy'], label='val_accuracy');\n",
    "plt.legend();"
   ]
  },
  {
   "cell_type": "code",
   "execution_count": 38,
   "metadata": {},
   "outputs": [],
   "source": [
    "# # Plot the cost function at each itteration\n",
    "# # Note: model.fit() returns an object that contains the history of the training process\n",
    "# plt.plot(result.history['f1micro'], label='train_f1micro');\n",
    "# plt.plot(result.history['val_f1micro'], label='val_f1micro');\n",
    "# plt.legend();"
   ]
  },
  {
   "cell_type": "code",
   "execution_count": null,
   "metadata": {},
   "outputs": [],
   "source": []
  },
  {
   "cell_type": "code",
   "execution_count": null,
   "metadata": {},
   "outputs": [],
   "source": []
  }
 ],
 "metadata": {
  "kernelspec": {
   "display_name": "Python 3",
   "language": "python",
   "name": "python3"
  },
  "language_info": {
   "codemirror_mode": {
    "name": "ipython",
    "version": 3
   },
   "file_extension": ".py",
   "mimetype": "text/x-python",
   "name": "python",
   "nbconvert_exporter": "python",
   "pygments_lexer": "ipython3",
   "version": "3.7.4"
  }
 },
 "nbformat": 4,
 "nbformat_minor": 2
}
