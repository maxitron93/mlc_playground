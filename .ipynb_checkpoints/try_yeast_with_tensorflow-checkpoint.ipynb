{
 "cells": [
  {
   "cell_type": "code",
   "execution_count": 1,
   "metadata": {},
   "outputs": [],
   "source": [
    "# Import the libraries\n",
    "import tensorflow as tf\n",
    "import numpy as np\n",
    "import pandas as pd\n",
    "import matplotlib.pyplot as plt\n",
    "from sklearn.model_selection import train_test_split \n",
    "from tensorflow.keras.layers import Input, Dense\n",
    "from tensorflow.keras.models import Model\n",
    "from tensorflow.keras.optimizers import Adam"
   ]
  },
  {
   "cell_type": "markdown",
   "metadata": {},
   "source": [
    "### Laod and explore the data"
   ]
  },
  {
   "cell_type": "code",
   "execution_count": 2,
   "metadata": {},
   "outputs": [
    {
     "data": {
      "text/html": [
       "<div>\n",
       "<style scoped>\n",
       "    .dataframe tbody tr th:only-of-type {\n",
       "        vertical-align: middle;\n",
       "    }\n",
       "\n",
       "    .dataframe tbody tr th {\n",
       "        vertical-align: top;\n",
       "    }\n",
       "\n",
       "    .dataframe thead th {\n",
       "        text-align: right;\n",
       "    }\n",
       "</style>\n",
       "<table border=\"1\" class=\"dataframe\">\n",
       "  <thead>\n",
       "    <tr style=\"text-align: right;\">\n",
       "      <th></th>\n",
       "      <th>Att1</th>\n",
       "      <th>Att2</th>\n",
       "      <th>Att3</th>\n",
       "      <th>Att4</th>\n",
       "      <th>Att5</th>\n",
       "      <th>Att6</th>\n",
       "      <th>Att7</th>\n",
       "      <th>Att8</th>\n",
       "      <th>Att9</th>\n",
       "      <th>Att10</th>\n",
       "      <th>...</th>\n",
       "      <th>Class5</th>\n",
       "      <th>Class6</th>\n",
       "      <th>Class7</th>\n",
       "      <th>Class8</th>\n",
       "      <th>Class9</th>\n",
       "      <th>Class10</th>\n",
       "      <th>Class11</th>\n",
       "      <th>Class12</th>\n",
       "      <th>Class13</th>\n",
       "      <th>Class14</th>\n",
       "    </tr>\n",
       "  </thead>\n",
       "  <tbody>\n",
       "    <tr>\n",
       "      <td>0</td>\n",
       "      <td>0.004168</td>\n",
       "      <td>-0.170975</td>\n",
       "      <td>-0.156748</td>\n",
       "      <td>-0.142151</td>\n",
       "      <td>0.058781</td>\n",
       "      <td>0.026851</td>\n",
       "      <td>0.197719</td>\n",
       "      <td>0.041850</td>\n",
       "      <td>0.066938</td>\n",
       "      <td>-0.056617</td>\n",
       "      <td>...</td>\n",
       "      <td>False</td>\n",
       "      <td>False</td>\n",
       "      <td>True</td>\n",
       "      <td>True</td>\n",
       "      <td>False</td>\n",
       "      <td>False</td>\n",
       "      <td>False</td>\n",
       "      <td>True</td>\n",
       "      <td>True</td>\n",
       "      <td>False</td>\n",
       "    </tr>\n",
       "    <tr>\n",
       "      <td>1</td>\n",
       "      <td>-0.103956</td>\n",
       "      <td>0.011879</td>\n",
       "      <td>-0.098986</td>\n",
       "      <td>-0.054501</td>\n",
       "      <td>-0.007970</td>\n",
       "      <td>0.049113</td>\n",
       "      <td>-0.030580</td>\n",
       "      <td>-0.077933</td>\n",
       "      <td>-0.080529</td>\n",
       "      <td>-0.016267</td>\n",
       "      <td>...</td>\n",
       "      <td>False</td>\n",
       "      <td>False</td>\n",
       "      <td>False</td>\n",
       "      <td>False</td>\n",
       "      <td>False</td>\n",
       "      <td>False</td>\n",
       "      <td>False</td>\n",
       "      <td>False</td>\n",
       "      <td>False</td>\n",
       "      <td>False</td>\n",
       "    </tr>\n",
       "    <tr>\n",
       "      <td>2</td>\n",
       "      <td>0.509949</td>\n",
       "      <td>0.401709</td>\n",
       "      <td>0.293799</td>\n",
       "      <td>0.087714</td>\n",
       "      <td>0.011686</td>\n",
       "      <td>-0.006411</td>\n",
       "      <td>-0.006255</td>\n",
       "      <td>0.013646</td>\n",
       "      <td>-0.040666</td>\n",
       "      <td>-0.024447</td>\n",
       "      <td>...</td>\n",
       "      <td>False</td>\n",
       "      <td>False</td>\n",
       "      <td>False</td>\n",
       "      <td>False</td>\n",
       "      <td>False</td>\n",
       "      <td>False</td>\n",
       "      <td>False</td>\n",
       "      <td>True</td>\n",
       "      <td>True</td>\n",
       "      <td>False</td>\n",
       "    </tr>\n",
       "    <tr>\n",
       "      <td>3</td>\n",
       "      <td>0.119092</td>\n",
       "      <td>0.004412</td>\n",
       "      <td>-0.002262</td>\n",
       "      <td>0.072254</td>\n",
       "      <td>0.044512</td>\n",
       "      <td>-0.051467</td>\n",
       "      <td>0.074686</td>\n",
       "      <td>-0.007670</td>\n",
       "      <td>0.079438</td>\n",
       "      <td>0.062184</td>\n",
       "      <td>...</td>\n",
       "      <td>False</td>\n",
       "      <td>False</td>\n",
       "      <td>False</td>\n",
       "      <td>False</td>\n",
       "      <td>False</td>\n",
       "      <td>False</td>\n",
       "      <td>False</td>\n",
       "      <td>False</td>\n",
       "      <td>False</td>\n",
       "      <td>False</td>\n",
       "    </tr>\n",
       "    <tr>\n",
       "      <td>4</td>\n",
       "      <td>0.042037</td>\n",
       "      <td>0.007054</td>\n",
       "      <td>-0.069483</td>\n",
       "      <td>0.081015</td>\n",
       "      <td>-0.048207</td>\n",
       "      <td>0.089446</td>\n",
       "      <td>-0.004947</td>\n",
       "      <td>0.064456</td>\n",
       "      <td>-0.133387</td>\n",
       "      <td>0.068878</td>\n",
       "      <td>...</td>\n",
       "      <td>True</td>\n",
       "      <td>True</td>\n",
       "      <td>False</td>\n",
       "      <td>False</td>\n",
       "      <td>False</td>\n",
       "      <td>False</td>\n",
       "      <td>False</td>\n",
       "      <td>False</td>\n",
       "      <td>False</td>\n",
       "      <td>False</td>\n",
       "    </tr>\n",
       "  </tbody>\n",
       "</table>\n",
       "<p>5 rows × 117 columns</p>\n",
       "</div>"
      ],
      "text/plain": [
       "       Att1      Att2      Att3      Att4      Att5      Att6      Att7  \\\n",
       "0  0.004168 -0.170975 -0.156748 -0.142151  0.058781  0.026851  0.197719   \n",
       "1 -0.103956  0.011879 -0.098986 -0.054501 -0.007970  0.049113 -0.030580   \n",
       "2  0.509949  0.401709  0.293799  0.087714  0.011686 -0.006411 -0.006255   \n",
       "3  0.119092  0.004412 -0.002262  0.072254  0.044512 -0.051467  0.074686   \n",
       "4  0.042037  0.007054 -0.069483  0.081015 -0.048207  0.089446 -0.004947   \n",
       "\n",
       "       Att8      Att9     Att10  ...  Class5  Class6  Class7  Class8  Class9  \\\n",
       "0  0.041850  0.066938 -0.056617  ...   False   False    True    True   False   \n",
       "1 -0.077933 -0.080529 -0.016267  ...   False   False   False   False   False   \n",
       "2  0.013646 -0.040666 -0.024447  ...   False   False   False   False   False   \n",
       "3 -0.007670  0.079438  0.062184  ...   False   False   False   False   False   \n",
       "4  0.064456 -0.133387  0.068878  ...    True    True   False   False   False   \n",
       "\n",
       "   Class10  Class11  Class12  Class13  Class14  \n",
       "0    False    False     True     True    False  \n",
       "1    False    False    False    False    False  \n",
       "2    False    False     True     True    False  \n",
       "3    False    False    False    False    False  \n",
       "4    False    False    False    False    False  \n",
       "\n",
       "[5 rows x 117 columns]"
      ]
     },
     "execution_count": 2,
     "metadata": {},
     "output_type": "execute_result"
    }
   ],
   "source": [
    "# Load in the data\n",
    "df = pd.read_csv('../Datasets/Yeast/yeast.csv')\n",
    "\n",
    "# Have a look at the first 10 rows\n",
    "df.head(5)"
   ]
  },
  {
   "cell_type": "code",
   "execution_count": 3,
   "metadata": {},
   "outputs": [],
   "source": [
    "# Convert TRUE and FALSE to 1 and 0\n",
    "for colname in df.loc[:, 'Class1':'Class14'].columns:\n",
    "    df[colname] = df[colname].astype(int)"
   ]
  },
  {
   "cell_type": "code",
   "execution_count": 4,
   "metadata": {},
   "outputs": [
    {
     "data": {
      "text/plain": [
       "(2417, 117)"
      ]
     },
     "execution_count": 4,
     "metadata": {},
     "output_type": "execute_result"
    }
   ],
   "source": [
    "# Have a look at the dimensions\n",
    "df.shape"
   ]
  },
  {
   "cell_type": "code",
   "execution_count": 5,
   "metadata": {},
   "outputs": [
    {
     "name": "stdout",
     "output_type": "stream",
     "text": [
      "Class1: 762\n",
      "Class2: 1038\n",
      "Class3: 983\n",
      "Class4: 862\n",
      "Class5: 722\n",
      "Class6: 597\n",
      "Class7: 428\n",
      "Class8: 480\n",
      "Class9: 178\n",
      "Class10: 253\n",
      "Class11: 289\n",
      "Class12: 1816\n",
      "Class13: 1799\n",
      "Class14: 34\n"
     ]
    }
   ],
   "source": [
    "# See how many of each category exists\n",
    "for colname in df.loc[:, 'Class1':'Class14'].columns:\n",
    "    count = df[colname].sum()\n",
    "    print(f'{colname}: {count}')"
   ]
  },
  {
   "cell_type": "code",
   "execution_count": 6,
   "metadata": {},
   "outputs": [
    {
     "name": "stdout",
     "output_type": "stream",
     "text": [
      "AxesSubplot(0.125,0.125;0.775x0.755)\n"
     ]
    },
    {
     "data": {
      "image/png": "[encoded data removed]",
      "text/plain": [
       "<Figure size 432x288 with 1 Axes>"
      ]
     },
     "metadata": {
      "needs_background": "light"
     },
     "output_type": "display_data"
    }
   ],
   "source": [
    "# See the distribution of categories per data point\n",
    "y_df = df.loc[:, 'Class1':'Class14']\n",
    "rowsums = y_df.sum(axis=1)\n",
    "print(rowsums.hist())"
   ]
  },
  {
   "cell_type": "markdown",
   "metadata": {},
   "source": [
    "### Process the data"
   ]
  },
  {
   "cell_type": "code",
   "execution_count": 7,
   "metadata": {},
   "outputs": [],
   "source": [
    "# Get the independent variables\n",
    "X = df.loc[:, 'Att1':'Att103'].values"
   ]
  },
  {
   "cell_type": "code",
   "execution_count": 8,
   "metadata": {},
   "outputs": [],
   "source": [
    "# Get the labels\n",
    "y = y_df.values"
   ]
  },
  {
   "cell_type": "code",
   "execution_count": 9,
   "metadata": {},
   "outputs": [],
   "source": [
    "# Create the train-test-split\n",
    "X_train, X_test, y_train, y_test = train_test_split(X, y, test_size=0.25, random_state=1000)"
   ]
  },
  {
   "cell_type": "markdown",
   "metadata": {},
   "source": [
    "### Build the model"
   ]
  },
  {
   "cell_type": "code",
   "execution_count": 10,
   "metadata": {},
   "outputs": [],
   "source": [
    "# Define the layers of the model\n",
    "i = Input(shape=(X_train.shape[1],))\n",
    "x = Dense(200, activation='relu')(i)\n",
    "x = Dense(200, activation='relu')(x)\n",
    "x = Dense(200, activation='relu')(x)\n",
    "x = Dense(200, activation='relu')(x)\n",
    "x = tf.keras.layers.Dense(14, activation='sigmoid')(x)"
   ]
  },
  {
   "cell_type": "code",
   "execution_count": 11,
   "metadata": {},
   "outputs": [],
   "source": [
    "# Build the model\n",
    "model = Model(i, x)"
   ]
  },
  {
   "cell_type": "code",
   "execution_count": 12,
   "metadata": {},
   "outputs": [
    {
     "name": "stdout",
     "output_type": "stream",
     "text": [
      "Model: \"model\"\n",
      "_________________________________________________________________\n",
      "Layer (type)                 Output Shape              Param #   \n",
      "=================================================================\n",
      "input_1 (InputLayer)         [(None, 103)]             0         \n",
      "_________________________________________________________________\n",
      "dense (Dense)                (None, 200)               20800     \n",
      "_________________________________________________________________\n",
      "dense_1 (Dense)              (None, 200)               40200     \n",
      "_________________________________________________________________\n",
      "dense_2 (Dense)              (None, 200)               40200     \n",
      "_________________________________________________________________\n",
      "dense_3 (Dense)              (None, 200)               40200     \n",
      "_________________________________________________________________\n",
      "dense_4 (Dense)              (None, 14)                2814      \n",
      "=================================================================\n",
      "Total params: 144,214\n",
      "Trainable params: 144,214\n",
      "Non-trainable params: 0\n",
      "_________________________________________________________________\n"
     ]
    }
   ],
   "source": [
    "# Have a look at the model\n",
    "model.summary()"
   ]
  },
  {
   "cell_type": "code",
   "execution_count": 13,
   "metadata": {},
   "outputs": [],
   "source": [
    "# Define how the model should be trained\n",
    "model.compile(loss='binary_crossentropy', optimizer=Adam(lr=0.00005), metrics=['accuracy'])"
   ]
  },
  {
   "cell_type": "code",
   "execution_count": 14,
   "metadata": {
    "scrolled": true
   },
   "outputs": [
    {
     "name": "stdout",
     "output_type": "stream",
     "text": [
      "Train on 1812 samples, validate on 605 samples\n",
      "Epoch 1/30\n",
      "1812/1812 [==============================] - 1s 536us/sample - loss: 0.6827 - accuracy: 0.6954 - val_loss: 0.6702 - val_accuracy: 0.7560\n",
      "Epoch 2/30\n",
      "1812/1812 [==============================] - 0s 107us/sample - loss: 0.6467 - accuracy: 0.7656 - val_loss: 0.6147 - val_accuracy: 0.7698\n",
      "Epoch 3/30\n",
      "1812/1812 [==============================] - 0s 103us/sample - loss: 0.5704 - accuracy: 0.7676 - val_loss: 0.5273 - val_accuracy: 0.7698\n",
      "Epoch 4/30\n",
      "1812/1812 [==============================] - 0s 107us/sample - loss: 0.5081 - accuracy: 0.7676 - val_loss: 0.4980 - val_accuracy: 0.7698\n",
      "Epoch 5/30\n",
      "1812/1812 [==============================] - 0s 108us/sample - loss: 0.4943 - accuracy: 0.7676 - val_loss: 0.4917 - val_accuracy: 0.7698\n",
      "Epoch 6/30\n",
      "1812/1812 [==============================] - 0s 109us/sample - loss: 0.4895 - accuracy: 0.7676 - val_loss: 0.4882 - val_accuracy: 0.7698\n",
      "Epoch 7/30\n",
      "1812/1812 [==============================] - 0s 110us/sample - loss: 0.4862 - accuracy: 0.7676 - val_loss: 0.4854 - val_accuracy: 0.7698\n",
      "Epoch 8/30\n",
      "1812/1812 [==============================] - 0s 106us/sample - loss: 0.4830 - accuracy: 0.7678 - val_loss: 0.4824 - val_accuracy: 0.7712\n",
      "Epoch 9/30\n",
      "1812/1812 [==============================] - 0s 102us/sample - loss: 0.4793 - accuracy: 0.7720 - val_loss: 0.4792 - val_accuracy: 0.7758\n",
      "Epoch 10/30\n",
      "1812/1812 [==============================] - 0s 102us/sample - loss: 0.4756 - accuracy: 0.7741 - val_loss: 0.4758 - val_accuracy: 0.7766\n",
      "Epoch 11/30\n",
      "1812/1812 [==============================] - 0s 102us/sample - loss: 0.4716 - accuracy: 0.7774 - val_loss: 0.4723 - val_accuracy: 0.7798\n",
      "Epoch 12/30\n",
      "1812/1812 [==============================] - 0s 108us/sample - loss: 0.4676 - accuracy: 0.7804 - val_loss: 0.4688 - val_accuracy: 0.7821\n",
      "Epoch 13/30\n",
      "1812/1812 [==============================] - 0s 100us/sample - loss: 0.4639 - accuracy: 0.7824 - val_loss: 0.4652 - val_accuracy: 0.7849\n",
      "Epoch 14/30\n",
      "1812/1812 [==============================] - 0s 105us/sample - loss: 0.4600 - accuracy: 0.7861 - val_loss: 0.4622 - val_accuracy: 0.7890\n",
      "Epoch 15/30\n",
      "1812/1812 [==============================] - 0s 111us/sample - loss: 0.4565 - accuracy: 0.7893 - val_loss: 0.4593 - val_accuracy: 0.7923\n",
      "Epoch 16/30\n",
      "1812/1812 [==============================] - 0s 125us/sample - loss: 0.4529 - accuracy: 0.7940 - val_loss: 0.4564 - val_accuracy: 0.7947\n",
      "Epoch 17/30\n",
      "1812/1812 [==============================] - 0s 115us/sample - loss: 0.4498 - accuracy: 0.7952 - val_loss: 0.4541 - val_accuracy: 0.7967\n",
      "Epoch 18/30\n",
      "1812/1812 [==============================] - 0s 103us/sample - loss: 0.4469 - accuracy: 0.7975 - val_loss: 0.4522 - val_accuracy: 0.7960\n",
      "Epoch 19/30\n",
      "1812/1812 [==============================] - 0s 104us/sample - loss: 0.4442 - accuracy: 0.7981 - val_loss: 0.4503 - val_accuracy: 0.7960\n",
      "Epoch 20/30\n",
      "1812/1812 [==============================] - 0s 103us/sample - loss: 0.4418 - accuracy: 0.7990 - val_loss: 0.4488 - val_accuracy: 0.7995\n",
      "Epoch 21/30\n",
      "1812/1812 [==============================] - 0s 106us/sample - loss: 0.4397 - accuracy: 0.7992 - val_loss: 0.4472 - val_accuracy: 0.7988\n",
      "Epoch 22/30\n",
      "1812/1812 [==============================] - 0s 103us/sample - loss: 0.4375 - accuracy: 0.8018 - val_loss: 0.4461 - val_accuracy: 0.7994\n",
      "Epoch 23/30\n",
      "1812/1812 [==============================] - 0s 105us/sample - loss: 0.4354 - accuracy: 0.8028 - val_loss: 0.4450 - val_accuracy: 0.7988\n",
      "Epoch 24/30\n",
      "1812/1812 [==============================] - 0s 103us/sample - loss: 0.4334 - accuracy: 0.8033 - val_loss: 0.4439 - val_accuracy: 0.8002\n",
      "Epoch 25/30\n",
      "1812/1812 [==============================] - 0s 114us/sample - loss: 0.4315 - accuracy: 0.8043 - val_loss: 0.4429 - val_accuracy: 0.8008\n",
      "Epoch 26/30\n",
      "1812/1812 [==============================] - 0s 113us/sample - loss: 0.4297 - accuracy: 0.8050 - val_loss: 0.4420 - val_accuracy: 0.8009\n",
      "Epoch 27/30\n",
      "1812/1812 [==============================] - 0s 113us/sample - loss: 0.4282 - accuracy: 0.8057 - val_loss: 0.4410 - val_accuracy: 0.8020\n",
      "Epoch 28/30\n",
      "1812/1812 [==============================] - 0s 110us/sample - loss: 0.4263 - accuracy: 0.8072 - val_loss: 0.4403 - val_accuracy: 0.8022\n",
      "Epoch 29/30\n",
      "1812/1812 [==============================] - 0s 104us/sample - loss: 0.4245 - accuracy: 0.8080 - val_loss: 0.4392 - val_accuracy: 0.8026\n",
      "Epoch 30/30\n",
      "1812/1812 [==============================] - 0s 106us/sample - loss: 0.4229 - accuracy: 0.8089 - val_loss: 0.4384 - val_accuracy: 0.8034\n"
     ]
    }
   ],
   "source": [
    "# Train the model\n",
    "result = model.fit(X_train, y_train,\n",
    "                   epochs=30,\n",
    "                   validation_data=(X_test, y_test));"
   ]
  },
  {
   "cell_type": "code",
   "execution_count": 15,
   "metadata": {},
   "outputs": [
    {
     "data": {
      "image/png": "[encoded data removed]",
      "text/plain": [
       "<Figure size 432x288 with 1 Axes>"
      ]
     },
     "metadata": {
      "needs_background": "light"
     },
     "output_type": "display_data"
    }
   ],
   "source": [
    "# Plot the cost function at each itteration\n",
    "# Note: model.fit() returns an object that contains the history of the training process\n",
    "plt.plot(result.history['accuracy'], label='train_accuracy');\n",
    "plt.plot(result.history['val_accuracy'], label='val_accuracy');\n",
    "plt.legend();"
   ]
  },
  {
   "cell_type": "code",
   "execution_count": 16,
   "metadata": {
    "scrolled": true
   },
   "outputs": [
    {
     "name": "stdout",
     "output_type": "stream",
     "text": [
      "Predicted for 100: [1, 1, 0, 0, 0, 0, 0, 0, 0, 0, 0, 1, 1, 0]\n",
      "Actual for 100: [0 0 1 1 0 0 0 0 0 0 0 1 1 1]\n",
      "----------------------------------------------------\n",
      "Predicted for 101: [0, 0, 0, 0, 0, 0, 0, 0, 0, 0, 0, 1, 1, 0]\n",
      "Actual for 101: [1 1 0 0 0 0 0 0 0 0 0 1 1 0]\n",
      "----------------------------------------------------\n",
      "Predicted for 102: [0, 1, 1, 0, 0, 0, 0, 0, 0, 0, 0, 1, 1, 0]\n",
      "Actual for 102: [0 0 0 0 0 0 1 1 1 0 0 0 0 0]\n",
      "----------------------------------------------------\n",
      "Predicted for 103: [0, 0, 1, 1, 0, 0, 0, 0, 0, 0, 0, 1, 1, 0]\n",
      "Actual for 103: [0 1 1 0 0 0 0 0 0 0 0 1 1 0]\n",
      "----------------------------------------------------\n",
      "Predicted for 104: [0, 0, 1, 0, 0, 0, 0, 0, 0, 0, 0, 1, 1, 0]\n",
      "Actual for 104: [0 0 0 0 1 1 0 0 0 0 0 1 1 0]\n",
      "----------------------------------------------------\n",
      "Predicted for 105: [1, 0, 0, 0, 0, 0, 0, 0, 0, 0, 0, 1, 1, 0]\n",
      "Actual for 105: [1 1 0 0 0 0 0 0 0 0 0 1 1 0]\n",
      "----------------------------------------------------\n",
      "Predicted for 106: [0, 1, 0, 0, 0, 0, 0, 0, 0, 0, 0, 1, 1, 0]\n",
      "Actual for 106: [0 0 0 0 1 1 1 1 0 0 0 1 1 0]\n",
      "----------------------------------------------------\n",
      "Predicted for 107: [0, 1, 0, 0, 0, 0, 0, 0, 0, 0, 0, 1, 1, 0]\n",
      "Actual for 107: [1 1 0 0 1 1 0 0 0 0 0 1 1 0]\n",
      "----------------------------------------------------\n",
      "Predicted for 108: [0, 1, 0, 0, 0, 0, 0, 0, 0, 0, 0, 1, 1, 0]\n",
      "Actual for 108: [0 0 0 0 1 1 1 1 0 0 0 0 0 0]\n",
      "----------------------------------------------------\n",
      "Predicted for 109: [0, 0, 1, 1, 0, 0, 0, 0, 0, 0, 0, 1, 1, 0]\n",
      "Actual for 109: [0 0 1 1 0 0 0 0 0 0 0 1 1 0]\n",
      "----------------------------------------------------\n",
      "Predicted for 110: [0, 0, 1, 1, 0, 0, 0, 0, 0, 0, 0, 1, 1, 0]\n",
      "Actual for 110: [0 0 1 1 0 0 0 0 0 0 0 0 0 0]\n",
      "----------------------------------------------------\n",
      "Predicted for 111: [0, 0, 0, 0, 0, 0, 0, 0, 0, 0, 0, 1, 1, 0]\n",
      "Actual for 111: [0 1 1 0 0 0 0 0 0 0 0 0 0 0]\n",
      "----------------------------------------------------\n",
      "Predicted for 112: [0, 0, 1, 1, 0, 0, 0, 0, 0, 0, 0, 1, 1, 0]\n",
      "Actual for 112: [0 1 1 0 0 0 0 0 0 0 0 0 0 0]\n",
      "----------------------------------------------------\n",
      "Predicted for 113: [0, 1, 1, 0, 0, 0, 0, 0, 0, 0, 0, 1, 1, 0]\n",
      "Actual for 113: [0 1 1 0 0 0 0 1 1 0 0 1 1 0]\n",
      "----------------------------------------------------\n",
      "Predicted for 114: [1, 0, 0, 0, 0, 0, 0, 0, 0, 0, 0, 1, 1, 0]\n",
      "Actual for 114: [1 0 0 0 0 0 0 0 0 0 0 1 1 0]\n",
      "----------------------------------------------------\n",
      "Predicted for 115: [1, 1, 0, 0, 0, 0, 0, 0, 0, 0, 0, 1, 1, 0]\n",
      "Actual for 115: [1 1 1 1 0 0 0 0 0 0 0 0 0 0]\n",
      "----------------------------------------------------\n",
      "Predicted for 116: [0, 0, 1, 1, 0, 0, 0, 0, 0, 0, 0, 1, 1, 0]\n",
      "Actual for 116: [0 0 0 0 1 1 1 1 0 0 0 1 1 0]\n",
      "----------------------------------------------------\n",
      "Predicted for 117: [0, 1, 1, 0, 0, 0, 0, 0, 0, 0, 0, 1, 1, 0]\n",
      "Actual for 117: [0 1 1 0 0 0 0 0 0 0 0 0 0 0]\n",
      "----------------------------------------------------\n",
      "Predicted for 118: [1, 1, 0, 0, 0, 0, 0, 0, 0, 0, 0, 1, 1, 0]\n",
      "Actual for 118: [0 1 1 0 0 0 0 0 0 0 0 1 1 0]\n",
      "----------------------------------------------------\n",
      "Predicted for 119: [1, 0, 0, 0, 0, 0, 0, 0, 0, 0, 0, 1, 1, 0]\n",
      "Actual for 119: [1 0 0 0 0 0 0 0 0 0 0 1 1 0]\n",
      "----------------------------------------------------\n"
     ]
    }
   ],
   "source": [
    "# Make a prediction\n",
    "for t in range(20):\n",
    "    t = t + 100\n",
    "    print(f'Predicted for {t}: {[0 if x < 0.5 else 1 for x in model.predict(np.array([X_test[t]]))[0]]}')\n",
    "    print(f'Actual for {t}: {y_test[t]}')\n",
    "    print('----------------------------------------------------')"
   ]
  },
  {
   "cell_type": "markdown",
   "metadata": {},
   "source": [
    "Looks like it doesn't work so well. I need a more formal performance metric, though. At least I got it to work! :D"
   ]
  },
  {
   "cell_type": "code",
   "execution_count": null,
   "metadata": {},
   "outputs": [],
   "source": []
  },
  {
   "cell_type": "code",
   "execution_count": null,
   "metadata": {},
   "outputs": [],
   "source": []
  },
  {
   "cell_type": "code",
   "execution_count": null,
   "metadata": {},
   "outputs": [],
   "source": []
  },
  {
   "cell_type": "code",
   "execution_count": null,
   "metadata": {},
   "outputs": [],
   "source": []
  }
 ],
 "metadata": {
  "kernelspec": {
   "display_name": "Python 3",
   "language": "python",
   "name": "python3"
  },
  "language_info": {
   "codemirror_mode": {
    "name": "ipython",
    "version": 3
   },
   "file_extension": ".py",
   "mimetype": "text/x-python",
   "name": "python",
   "nbconvert_exporter": "python",
   "pygments_lexer": "ipython3",
   "version": "3.7.4"
  }
 },
 "nbformat": 4,
 "nbformat_minor": 2
}
